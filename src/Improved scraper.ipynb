{
 "cells": [
  {
   "cell_type": "code",
   "execution_count": 46,
   "id": "674031aa",
   "metadata": {},
   "outputs": [],
   "source": [
    "# import necessary libraries\n",
    "import requests\n",
    "from bs4 import BeautifulSoup\n",
    "from time import sleep\n",
    "import math\n",
    "import pandas as pd\n",
    "from datetime import datetime\n",
    "import csv"
   ]
  },
  {
   "cell_type": "code",
   "execution_count": 47,
   "id": "4502dfcd",
   "metadata": {},
   "outputs": [],
   "source": [
    "# defining the base url\n",
    "base_url = 'https://www.airlinequality.com/airline-reviews/'"
   ]
  },
  {
   "cell_type": "code",
   "execution_count": 48,
   "id": "3e698398",
   "metadata": {},
   "outputs": [],
   "source": [
    "# for now a focus just a limited focus but will add more airports later\n",
    "airline = ['klm-royal-dutch-airlines', 'air-china', 'american-airlines']"
   ]
  },
  {
   "cell_type": "code",
   "execution_count": 49,
   "id": "7220e5d8",
   "metadata": {},
   "outputs": [],
   "source": [
    " # function to generate a list of full_urls of the airlines\n",
    "def generate_airline_urls(base_url, airline):\n",
    "    page_urls = []\n",
    "    for i in airline:\n",
    "        full_url = base_url + i\n",
    "        page_urls.append(full_url)\n",
    "    return page_urls"
   ]
  },
  {
   "cell_type": "code",
   "execution_count": 50,
   "id": "dd812cb9",
   "metadata": {},
   "outputs": [],
   "source": [
    "airline_urls = generate_airline_urls(base_url, airline)"
   ]
  },
  {
   "cell_type": "code",
   "execution_count": 51,
   "id": "e11be2d8",
   "metadata": {},
   "outputs": [
    {
     "name": "stdout",
     "output_type": "stream",
     "text": [
      "['https://www.airlinequality.com/airline-reviews/klm-royal-dutch-airlines', 'https://www.airlinequality.com/airline-reviews/air-china', 'https://www.airlinequality.com/airline-reviews/american-airlines']\n"
     ]
    }
   ],
   "source": [
    "print(airline_urls)"
   ]
  },
  {
   "cell_type": "code",
   "execution_count": 52,
   "id": "83319143",
   "metadata": {},
   "outputs": [],
   "source": [
    "# function to generate all page urls\n",
    "def generate_page_urls(airline_url, num_pages):\n",
    "    page_urls = []\n",
    "    \n",
    "    for counter in range(1, num_pages + 1):\n",
    "        full_url = airline_url + \"/page/\" + str(counter)\n",
    "        page_urls.append(full_url)\n",
    "        \n",
    "    return page_urls"
   ]
  },
  {
   "cell_type": "code",
   "execution_count": 53,
   "id": "5b0727f2",
   "metadata": {},
   "outputs": [
    {
     "data": {
      "text/plain": [
       "['https://www.airlinequality.com/airline-reviews/klm-royal-dutch-airlines/page/1',\n",
       " 'https://www.airlinequality.com/airline-reviews/klm-royal-dutch-airlines/page/2',\n",
       " 'https://www.airlinequality.com/airline-reviews/klm-royal-dutch-airlines/page/3',\n",
       " 'https://www.airlinequality.com/airline-reviews/klm-royal-dutch-airlines/page/4',\n",
       " 'https://www.airlinequality.com/airline-reviews/klm-royal-dutch-airlines/page/5',\n",
       " 'https://www.airlinequality.com/airline-reviews/klm-royal-dutch-airlines/page/6',\n",
       " 'https://www.airlinequality.com/airline-reviews/klm-royal-dutch-airlines/page/7',\n",
       " 'https://www.airlinequality.com/airline-reviews/klm-royal-dutch-airlines/page/8',\n",
       " 'https://www.airlinequality.com/airline-reviews/klm-royal-dutch-airlines/page/9',\n",
       " 'https://www.airlinequality.com/airline-reviews/klm-royal-dutch-airlines/page/10',\n",
       " 'https://www.airlinequality.com/airline-reviews/klm-royal-dutch-airlines/page/11',\n",
       " 'https://www.airlinequality.com/airline-reviews/klm-royal-dutch-airlines/page/12',\n",
       " 'https://www.airlinequality.com/airline-reviews/klm-royal-dutch-airlines/page/13',\n",
       " 'https://www.airlinequality.com/airline-reviews/klm-royal-dutch-airlines/page/14',\n",
       " 'https://www.airlinequality.com/airline-reviews/klm-royal-dutch-airlines/page/15',\n",
       " 'https://www.airlinequality.com/airline-reviews/klm-royal-dutch-airlines/page/16',\n",
       " 'https://www.airlinequality.com/airline-reviews/klm-royal-dutch-airlines/page/17',\n",
       " 'https://www.airlinequality.com/airline-reviews/klm-royal-dutch-airlines/page/18',\n",
       " 'https://www.airlinequality.com/airline-reviews/klm-royal-dutch-airlines/page/19',\n",
       " 'https://www.airlinequality.com/airline-reviews/klm-royal-dutch-airlines/page/20',\n",
       " 'https://www.airlinequality.com/airline-reviews/klm-royal-dutch-airlines/page/21',\n",
       " 'https://www.airlinequality.com/airline-reviews/klm-royal-dutch-airlines/page/22',\n",
       " 'https://www.airlinequality.com/airline-reviews/klm-royal-dutch-airlines/page/23',\n",
       " 'https://www.airlinequality.com/airline-reviews/klm-royal-dutch-airlines/page/24',\n",
       " 'https://www.airlinequality.com/airline-reviews/klm-royal-dutch-airlines/page/25',\n",
       " 'https://www.airlinequality.com/airline-reviews/klm-royal-dutch-airlines/page/26',\n",
       " 'https://www.airlinequality.com/airline-reviews/klm-royal-dutch-airlines/page/27',\n",
       " 'https://www.airlinequality.com/airline-reviews/klm-royal-dutch-airlines/page/28',\n",
       " 'https://www.airlinequality.com/airline-reviews/klm-royal-dutch-airlines/page/29',\n",
       " 'https://www.airlinequality.com/airline-reviews/klm-royal-dutch-airlines/page/30',\n",
       " 'https://www.airlinequality.com/airline-reviews/klm-royal-dutch-airlines/page/31',\n",
       " 'https://www.airlinequality.com/airline-reviews/klm-royal-dutch-airlines/page/32',\n",
       " 'https://www.airlinequality.com/airline-reviews/klm-royal-dutch-airlines/page/33',\n",
       " 'https://www.airlinequality.com/airline-reviews/klm-royal-dutch-airlines/page/34',\n",
       " 'https://www.airlinequality.com/airline-reviews/klm-royal-dutch-airlines/page/35',\n",
       " 'https://www.airlinequality.com/airline-reviews/klm-royal-dutch-airlines/page/36',\n",
       " 'https://www.airlinequality.com/airline-reviews/klm-royal-dutch-airlines/page/37',\n",
       " 'https://www.airlinequality.com/airline-reviews/klm-royal-dutch-airlines/page/38',\n",
       " 'https://www.airlinequality.com/airline-reviews/klm-royal-dutch-airlines/page/39',\n",
       " 'https://www.airlinequality.com/airline-reviews/klm-royal-dutch-airlines/page/40',\n",
       " 'https://www.airlinequality.com/airline-reviews/klm-royal-dutch-airlines/page/41',\n",
       " 'https://www.airlinequality.com/airline-reviews/klm-royal-dutch-airlines/page/42',\n",
       " 'https://www.airlinequality.com/airline-reviews/klm-royal-dutch-airlines/page/43',\n",
       " 'https://www.airlinequality.com/airline-reviews/klm-royal-dutch-airlines/page/44',\n",
       " 'https://www.airlinequality.com/airline-reviews/klm-royal-dutch-airlines/page/45',\n",
       " 'https://www.airlinequality.com/airline-reviews/klm-royal-dutch-airlines/page/46',\n",
       " 'https://www.airlinequality.com/airline-reviews/klm-royal-dutch-airlines/page/47',\n",
       " 'https://www.airlinequality.com/airline-reviews/klm-royal-dutch-airlines/page/48',\n",
       " 'https://www.airlinequality.com/airline-reviews/klm-royal-dutch-airlines/page/49',\n",
       " 'https://www.airlinequality.com/airline-reviews/klm-royal-dutch-airlines/page/50',\n",
       " 'https://www.airlinequality.com/airline-reviews/klm-royal-dutch-airlines/page/51',\n",
       " 'https://www.airlinequality.com/airline-reviews/klm-royal-dutch-airlines/page/52',\n",
       " 'https://www.airlinequality.com/airline-reviews/klm-royal-dutch-airlines/page/53',\n",
       " 'https://www.airlinequality.com/airline-reviews/klm-royal-dutch-airlines/page/54',\n",
       " 'https://www.airlinequality.com/airline-reviews/klm-royal-dutch-airlines/page/55',\n",
       " 'https://www.airlinequality.com/airline-reviews/klm-royal-dutch-airlines/page/56',\n",
       " 'https://www.airlinequality.com/airline-reviews/klm-royal-dutch-airlines/page/57',\n",
       " 'https://www.airlinequality.com/airline-reviews/klm-royal-dutch-airlines/page/58',\n",
       " 'https://www.airlinequality.com/airline-reviews/klm-royal-dutch-airlines/page/59',\n",
       " 'https://www.airlinequality.com/airline-reviews/klm-royal-dutch-airlines/page/60',\n",
       " 'https://www.airlinequality.com/airline-reviews/klm-royal-dutch-airlines/page/61',\n",
       " 'https://www.airlinequality.com/airline-reviews/klm-royal-dutch-airlines/page/62',\n",
       " 'https://www.airlinequality.com/airline-reviews/klm-royal-dutch-airlines/page/63',\n",
       " 'https://www.airlinequality.com/airline-reviews/klm-royal-dutch-airlines/page/64',\n",
       " 'https://www.airlinequality.com/airline-reviews/klm-royal-dutch-airlines/page/65',\n",
       " 'https://www.airlinequality.com/airline-reviews/klm-royal-dutch-airlines/page/66',\n",
       " 'https://www.airlinequality.com/airline-reviews/klm-royal-dutch-airlines/page/67',\n",
       " 'https://www.airlinequality.com/airline-reviews/klm-royal-dutch-airlines/page/68',\n",
       " 'https://www.airlinequality.com/airline-reviews/klm-royal-dutch-airlines/page/69',\n",
       " 'https://www.airlinequality.com/airline-reviews/klm-royal-dutch-airlines/page/70',\n",
       " 'https://www.airlinequality.com/airline-reviews/klm-royal-dutch-airlines/page/71',\n",
       " 'https://www.airlinequality.com/airline-reviews/klm-royal-dutch-airlines/page/72',\n",
       " 'https://www.airlinequality.com/airline-reviews/klm-royal-dutch-airlines/page/73',\n",
       " 'https://www.airlinequality.com/airline-reviews/klm-royal-dutch-airlines/page/74',\n",
       " 'https://www.airlinequality.com/airline-reviews/klm-royal-dutch-airlines/page/75',\n",
       " 'https://www.airlinequality.com/airline-reviews/klm-royal-dutch-airlines/page/76',\n",
       " 'https://www.airlinequality.com/airline-reviews/klm-royal-dutch-airlines/page/77',\n",
       " 'https://www.airlinequality.com/airline-reviews/klm-royal-dutch-airlines/page/78',\n",
       " 'https://www.airlinequality.com/airline-reviews/klm-royal-dutch-airlines/page/79',\n",
       " 'https://www.airlinequality.com/airline-reviews/klm-royal-dutch-airlines/page/80',\n",
       " 'https://www.airlinequality.com/airline-reviews/klm-royal-dutch-airlines/page/81',\n",
       " 'https://www.airlinequality.com/airline-reviews/klm-royal-dutch-airlines/page/82',\n",
       " 'https://www.airlinequality.com/airline-reviews/klm-royal-dutch-airlines/page/83',\n",
       " 'https://www.airlinequality.com/airline-reviews/klm-royal-dutch-airlines/page/84',\n",
       " 'https://www.airlinequality.com/airline-reviews/klm-royal-dutch-airlines/page/85',\n",
       " 'https://www.airlinequality.com/airline-reviews/klm-royal-dutch-airlines/page/86',\n",
       " 'https://www.airlinequality.com/airline-reviews/klm-royal-dutch-airlines/page/87',\n",
       " 'https://www.airlinequality.com/airline-reviews/klm-royal-dutch-airlines/page/88',\n",
       " 'https://www.airlinequality.com/airline-reviews/klm-royal-dutch-airlines/page/89',\n",
       " 'https://www.airlinequality.com/airline-reviews/klm-royal-dutch-airlines/page/90',\n",
       " 'https://www.airlinequality.com/airline-reviews/klm-royal-dutch-airlines/page/91',\n",
       " 'https://www.airlinequality.com/airline-reviews/klm-royal-dutch-airlines/page/92',\n",
       " 'https://www.airlinequality.com/airline-reviews/klm-royal-dutch-airlines/page/93',\n",
       " 'https://www.airlinequality.com/airline-reviews/klm-royal-dutch-airlines/page/94',\n",
       " 'https://www.airlinequality.com/airline-reviews/klm-royal-dutch-airlines/page/95',\n",
       " 'https://www.airlinequality.com/airline-reviews/klm-royal-dutch-airlines/page/96',\n",
       " 'https://www.airlinequality.com/airline-reviews/klm-royal-dutch-airlines/page/97',\n",
       " 'https://www.airlinequality.com/airline-reviews/klm-royal-dutch-airlines/page/98',\n",
       " 'https://www.airlinequality.com/airline-reviews/klm-royal-dutch-airlines/page/99',\n",
       " 'https://www.airlinequality.com/airline-reviews/klm-royal-dutch-airlines/page/100',\n",
       " 'https://www.airlinequality.com/airline-reviews/klm-royal-dutch-airlines/page/101',\n",
       " 'https://www.airlinequality.com/airline-reviews/klm-royal-dutch-airlines/page/102',\n",
       " 'https://www.airlinequality.com/airline-reviews/klm-royal-dutch-airlines/page/103',\n",
       " 'https://www.airlinequality.com/airline-reviews/klm-royal-dutch-airlines/page/104',\n",
       " 'https://www.airlinequality.com/airline-reviews/klm-royal-dutch-airlines/page/105',\n",
       " 'https://www.airlinequality.com/airline-reviews/klm-royal-dutch-airlines/page/106',\n",
       " 'https://www.airlinequality.com/airline-reviews/klm-royal-dutch-airlines/page/107',\n",
       " 'https://www.airlinequality.com/airline-reviews/klm-royal-dutch-airlines/page/108',\n",
       " 'https://www.airlinequality.com/airline-reviews/klm-royal-dutch-airlines/page/109',\n",
       " 'https://www.airlinequality.com/airline-reviews/klm-royal-dutch-airlines/page/110',\n",
       " 'https://www.airlinequality.com/airline-reviews/klm-royal-dutch-airlines/page/111',\n",
       " 'https://www.airlinequality.com/airline-reviews/klm-royal-dutch-airlines/page/112',\n",
       " 'https://www.airlinequality.com/airline-reviews/klm-royal-dutch-airlines/page/113',\n",
       " 'https://www.airlinequality.com/airline-reviews/klm-royal-dutch-airlines/page/114',\n",
       " 'https://www.airlinequality.com/airline-reviews/klm-royal-dutch-airlines/page/115',\n",
       " 'https://www.airlinequality.com/airline-reviews/klm-royal-dutch-airlines/page/116',\n",
       " 'https://www.airlinequality.com/airline-reviews/klm-royal-dutch-airlines/page/117',\n",
       " 'https://www.airlinequality.com/airline-reviews/klm-royal-dutch-airlines/page/118',\n",
       " 'https://www.airlinequality.com/airline-reviews/klm-royal-dutch-airlines/page/119',\n",
       " 'https://www.airlinequality.com/airline-reviews/klm-royal-dutch-airlines/page/120',\n",
       " 'https://www.airlinequality.com/airline-reviews/klm-royal-dutch-airlines/page/121',\n",
       " 'https://www.airlinequality.com/airline-reviews/klm-royal-dutch-airlines/page/122',\n",
       " 'https://www.airlinequality.com/airline-reviews/klm-royal-dutch-airlines/page/123']"
      ]
     },
     "execution_count": 53,
     "metadata": {},
     "output_type": "execute_result"
    }
   ],
   "source": [
    "# Page_url function for KLM\n",
    "generate_page_urls(airline_urls[0], 123)"
   ]
  },
  {
   "cell_type": "code",
   "execution_count": 54,
   "id": "22a8055e",
   "metadata": {},
   "outputs": [],
   "source": [
    "# function to calculate the page limit for an airline\n",
    "def page_limit(airline):\n",
    "    res = requests.get(airline)\n",
    "    review_source_code = res.text\n",
    "    soup = BeautifulSoup(review_source_code, 'html.parser')\n",
    "    \n",
    "    # this is very complicated code so it needs to be simplified\n",
    "    text = soup.find(class_=\"comp comp_reviews-pagination querylist-pagination position-\").find(\"div\").get_text()\n",
    "    clean = text.replace('1 to 10 of ','')\n",
    "    total_reviews = float(clean.replace(' Reviews',''))\n",
    "    total_pages = math.ceil(total_reviews/10)\n",
    "\n",
    "    return print(total_pages)"
   ]
  },
  {
   "cell_type": "code",
   "execution_count": 55,
   "id": "b1ce2bfc",
   "metadata": {},
   "outputs": [
    {
     "name": "stdout",
     "output_type": "stream",
     "text": [
      "123\n"
     ]
    }
   ],
   "source": [
    "# page limit function for KLM\n",
    "page_limit(airline_urls[0])"
   ]
  },
  {
   "cell_type": "code",
   "execution_count": 56,
   "id": "365d1825",
   "metadata": {},
   "outputs": [],
   "source": [
    "# setting up a function for our scraper\n",
    "def scrape(page_urls):\n",
    "    review_data = []\n",
    "     \n",
    "    for page_url in page_urls: \n",
    "        res = requests.get(page_url)\n",
    "        soup = BeautifulSoup(res.text, \"html.parser\")\n",
    "        reviews = soup.find_all(class_= \"body\")\n",
    "        \n",
    "        for review in reviews:\n",
    "            review_title = review.find(\"h2\").get_text() # review title\n",
    "            review_verify = review.find(\"em\").get_text() # verified or not \n",
    "            review_published = review.find(\"time\").attrs[\"datetime\"] # date the review is published\n",
    "            review_data.append({'title': review_title, 'date published': review_published, 'verify_status':  review_verify})\n",
    "        sleep(1)\n",
    "    \n",
    "    return review_data"
   ]
  },
  {
   "cell_type": "code",
   "execution_count": 57,
   "id": "a36d1341",
   "metadata": {},
   "outputs": [
    {
     "name": "stdout",
     "output_type": "stream",
     "text": [
      "[{'title': '\"luggage was never loaded onto the flight\"', 'date published': '2021-10-04', 'verify_status': 'Trip Verified'}, {'title': '\"What happened with their customer service?\"', 'date published': '2021-10-02', 'verify_status': 'Trip Verified'}, {'title': '\"staff at the airport were terrible\"', 'date published': '2021-09-30', 'verify_status': 'Trip Verified'}, {'title': '\"Delightful experience!\"', 'date published': '2021-09-27', 'verify_status': 'Not Verified'}, {'title': '\"took my small Samsonite hand luggage from me\"', 'date published': '2021-09-11', 'verify_status': 'Trip Verified'}, {'title': '\"worst flight of our lives\"', 'date published': '2021-09-10', 'verify_status': 'Trip Verified'}, {'title': '\"experience was very positive\"', 'date published': '2021-09-04', 'verify_status': 'Not Verified'}, {'title': '\"seats were tiny\"', 'date published': '2021-09-02', 'verify_status': 'Trip Verified'}, {'title': '\"lied to by a KLM representative who I put my trust in\"', 'date published': '2021-09-01', 'verify_status': 'Trip Verified'}, {'title': '\"it was a pleasant experience\"', 'date published': '2021-08-31', 'verify_status': 'Trip Verified'}, {'title': '\"still trying to change a flight\"', 'date published': '2021-08-28', 'verify_status': 'Not Verified'}, {'title': '\"check-in was extremely slow\"', 'date published': '2021-08-24', 'verify_status': 'Trip Verified'}, {'title': '\"crew was professional and friendly\"', 'date published': '2021-08-21', 'verify_status': 'Trip Verified'}, {'title': '\"the whole catastrophe\"', 'date published': '2021-08-20', 'verify_status': 'Not Verified'}, {'title': '\"could not find any of our tickets\"', 'date published': '2021-08-15', 'verify_status': 'Not Verified'}, {'title': '\"no way of getting in touch\"', 'date published': '2021-08-10', 'verify_status': 'Not Verified'}, {'title': '\"fighting to receive my refund\"', 'date published': '2021-08-09', 'verify_status': 'Trip Verified'}, {'title': '\"no business class style of seat\"', 'date published': '2021-07-29', 'verify_status': 'Trip Verified'}, {'title': '\"A tired old plane\"', 'date published': '2021-07-28', 'verify_status': 'Trip Verified'}, {'title': '\"The worst flight experience\"', 'date published': '2021-07-22', 'verify_status': 'Trip Verified'}]\n"
     ]
    }
   ],
   "source": [
    "# scraping the first two pages of KLM reviews\n",
    "KLM_data = scrape(generate_page_urls(airline_urls[0], 2))\n",
    "print(KLM_data)"
   ]
  },
  {
   "cell_type": "code",
   "execution_count": 44,
   "id": "37709393",
   "metadata": {},
   "outputs": [],
   "source": [
    "# making a function that will convert the scraped data to a csv file\n",
    "def convert(airline_data, airline):\n",
    "    review_data = []\n",
    "\n",
    "    with open(str(airline) + \"_data.csv\", \"a\", encoding = 'utf-8') as csv_file: \n",
    "        writer = csv.writer(csv_file, delimiter = \";\")\n",
    "        writer.writerow([\"title\", \"verify_status\", \"date published\"])\n",
    "    \n",
    "        for data in airline_data: \n",
    "            writer.writerow([data['title'], data['verify_status'], data['date published']])\n",
    "        \n",
    "        print(\"done!\")"
   ]
  },
  {
   "cell_type": "code",
   "execution_count": 45,
   "id": "c9c43cea",
   "metadata": {},
   "outputs": [
    {
     "name": "stdout",
     "output_type": "stream",
     "text": [
      "done!\n"
     ]
    }
   ],
   "source": [
    "# Making a csv file for the KLM data. PROBLEM: when opened in excel there are empty rows between each row.\n",
    "convert(KLM_data, airline[0])"
   ]
  },
  {
   "cell_type": "code",
   "execution_count": null,
   "id": "4515863f",
   "metadata": {},
   "outputs": [],
   "source": [
    "#### Here I have some problems ####"
   ]
  },
  {
   "cell_type": "code",
   "execution_count": 52,
   "id": "42577e4e",
   "metadata": {},
   "outputs": [
    {
     "name": "stdout",
     "output_type": "stream",
     "text": [
      "['\\n\\t\\t\\t\\t\\t\\t\\t\\t\\t\\t\\t\\t\\t6', '5', '10', '3', '1', '10', '1', '1', '7', '1', '8']\n"
     ]
    }
   ],
   "source": [
    "## I want to extract the review rating but it does not work due to a table at the top of the screen ##\n",
    "reviews = soup.find_all(class_ = \"rating-10\")\n",
    "\n",
    "review_ratings = []\n",
    "    # create an empty list\n",
    "\n",
    "for review in reviews:\n",
    "    review_rating = review.find(\"span\").get_text()\n",
    "    review_ratings.append(review_rating) \n",
    "    \n",
    "# unfortuneately output also gives the average rating on top of the page \n",
    "print(review_ratings)"
   ]
  },
  {
   "cell_type": "code",
   "execution_count": 144,
   "id": "385955ca",
   "metadata": {},
   "outputs": [
    {
     "name": "stdout",
     "output_type": "stream",
     "text": [
      "['\\n67 reviews\\n\\n\\n\\nMichel Perrin', '\\n67 reviews\\n\\n\\n\\nMichel Perrin', '\\n67 reviews\\n\\n\\n\\nMichel Perrin', '\\n67 reviews\\n\\n\\n\\nMichel Perrin', '\\n67 reviews\\n\\n\\n\\nMichel Perrin', '\\n67 reviews\\n\\n\\n\\nMichel Perrin', '\\n67 reviews\\n\\n\\n\\nMichel Perrin', '\\n67 reviews\\n\\n\\n\\nMichel Perrin', '\\n67 reviews\\n\\n\\n\\nMichel Perrin', '\\n67 reviews\\n\\n\\n\\nMichel Perrin']\n"
     ]
    }
   ],
   "source": [
    "# I am not able to extract reviewer names as we get a weird output\n",
    "reviews = soup.find_all(class_ = \"body\")\n",
    "review_names = []\n",
    "\n",
    "for review in reviews:\n",
    "    review_rating = review.find(\"span\").get_text()\n",
    "    review_rating = review_rating.replace(' ','').replace(' ','') # -> does not work right now\n",
    "    review_names.append(review_name) \n",
    "    \n",
    "print(review_names)"
   ]
  },
  {
   "cell_type": "code",
   "execution_count": 145,
   "id": "0588b9bd",
   "metadata": {},
   "outputs": [
    {
     "ename": "AttributeError",
     "evalue": "'NoneType' object has no attribute 'find_all'",
     "output_type": "error",
     "traceback": [
      "\u001b[1;31m---------------------------------------------------------------------------\u001b[0m",
      "\u001b[1;31mAttributeError\u001b[0m                            Traceback (most recent call last)",
      "\u001b[1;32m<ipython-input-145-ba8359c258df>\u001b[0m in \u001b[0;36m<module>\u001b[1;34m\u001b[0m\n\u001b[0;32m      4\u001b[0m \u001b[0mtable_body\u001b[0m \u001b[1;33m=\u001b[0m \u001b[0mtable\u001b[0m\u001b[1;33m.\u001b[0m\u001b[0mfind\u001b[0m\u001b[1;33m(\u001b[0m\u001b[1;34m'tbody'\u001b[0m\u001b[1;33m)\u001b[0m\u001b[1;33m\u001b[0m\u001b[1;33m\u001b[0m\u001b[0m\n\u001b[0;32m      5\u001b[0m \u001b[1;33m\u001b[0m\u001b[0m\n\u001b[1;32m----> 6\u001b[1;33m \u001b[1;32mfor\u001b[0m \u001b[0mrow\u001b[0m \u001b[1;32min\u001b[0m \u001b[0mtable\u001b[0m\u001b[1;33m.\u001b[0m\u001b[0mtbody\u001b[0m\u001b[1;33m.\u001b[0m\u001b[0mfind_all\u001b[0m\u001b[1;33m(\u001b[0m\u001b[1;34m'tr'\u001b[0m\u001b[1;33m)\u001b[0m\u001b[1;33m:\u001b[0m\u001b[1;33m\u001b[0m\u001b[1;33m\u001b[0m\u001b[0m\n\u001b[0m\u001b[0;32m      7\u001b[0m     \u001b[0mcolumns\u001b[0m \u001b[1;33m=\u001b[0m \u001b[0mrow\u001b[0m\u001b[1;33m.\u001b[0m\u001b[0mfind_all\u001b[0m\u001b[1;33m(\u001b[0m\u001b[1;34m'td'\u001b[0m\u001b[1;33m)\u001b[0m\u001b[1;33m\u001b[0m\u001b[1;33m\u001b[0m\u001b[0m\n",
      "\u001b[1;31mAttributeError\u001b[0m: 'NoneType' object has no attribute 'find_all'"
     ]
    }
   ],
   "source": [
    "# still struggling to get data from the table\n",
    "data = []\n",
    "\n",
    "table = review.find('table', attrs={'class':'review-ratings'})\n",
    "table_body = table.find('tbody')\n",
    "\n",
    "for row in table.tbody.find_all('tr'):    \n",
    "    columns = row.find_all('td')"
   ]
  }
 ],
 "metadata": {
  "kernelspec": {
   "display_name": "Python 3",
   "language": "python",
   "name": "python3"
  },
  "language_info": {
   "codemirror_mode": {
    "name": "ipython",
    "version": 3
   },
   "file_extension": ".py",
   "mimetype": "text/x-python",
   "name": "python",
   "nbconvert_exporter": "python",
   "pygments_lexer": "ipython3",
   "version": "3.8.8"
  }
 },
 "nbformat": 4,
 "nbformat_minor": 5
}
